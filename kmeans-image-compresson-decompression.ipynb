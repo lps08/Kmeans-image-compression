{
 "metadata": {
  "language_info": {
   "codemirror_mode": {
    "name": "ipython",
    "version": 3
   },
   "file_extension": ".py",
   "mimetype": "text/x-python",
   "name": "python",
   "nbconvert_exporter": "python",
   "pygments_lexer": "ipython3",
   "version": "3.8.5"
  },
  "orig_nbformat": 2,
  "kernelspec": {
   "name": "python385jvsc74a57bd0f3d1f5d30c21196c70f8c8258cabef989d2c9491e4a1af195aa9091f64f6d2e6",
   "display_name": "Python 3.8.5 64-bit ('base': conda)"
  }
 },
 "nbformat": 4,
 "nbformat_minor": 2,
 "cells": [
  {
   "cell_type": "code",
   "execution_count": 2,
   "metadata": {},
   "outputs": [],
   "source": [
    "from skimage import io\n",
    "from skimage.transform import resize\n",
    "import numpy as np\n",
    "\n",
    "#TODO: comentar classe\n",
    "class ImageUtils(object): \n",
    "    @staticmethod  \n",
    "    def preprocessImage(imgPath:str, size:tuple) -> np.ndarray:\n",
    "        img = io.imread(imgPath)\n",
    "        img = resize(img, size)\n",
    "        return img"
   ]
  },
  {
   "cell_type": "code",
   "execution_count": 3,
   "metadata": {},
   "outputs": [],
   "source": [
    "#TODO:comentar classe\n",
    "from sklearn.cluster import KMeans\n",
    "\n",
    "class ImageCompressionKmeans(object):\n",
    "\n",
    "    @staticmethod\n",
    "    def encoder(imgPath:str, size:tuple = (256, 256)):\n",
    "        img = ImageUtils.preprocessImage(imgPath=imgPath, size=size)\n",
    "        img = img.reshape(img.shape[0] * img.shape[1], 3)\n",
    "        kmeans = KMeans(n_clusters=128, n_init=10, max_iter=200)\n",
    "        kmeans.fit(img)\n",
    "\n",
    "        clusters = np.asarray(kmeans.cluster_centers_, dtype=np.uint8)\n",
    "        labels = np.asarray(kmeans.labels_, dtype=np.uint8)\n",
    "        labels = labels.reshape(rows, cols)\n",
    "\n",
    "        return (clusters, labels)\n",
    "\n",
    "    @staticmethod\n",
    "    def decoder(clusters:np.ndarray, labels:np.ndarray):\n",
    "        image = np.zeros((clusters.shape[0], labels.shape[1], 3), dtype=np.uint8)\n",
    "\n",
    "        for i in range(labels.shape[0]): \n",
    "            for j in range(labels.shape[1]):\n",
    "                image[i, j, :] = clusters[c_img[i, j], :]\n",
    "\n",
    "        return image"
   ]
  },
  {
   "cell_type": "code",
   "execution_count": 4,
   "metadata": {},
   "outputs": [],
   "source": [
    "#TODO: falta teste"
   ]
  }
 ]
}