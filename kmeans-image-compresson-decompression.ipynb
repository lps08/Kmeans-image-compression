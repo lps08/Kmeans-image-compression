{
 "metadata": {
  "language_info": {
   "codemirror_mode": {
    "name": "ipython",
    "version": 3
   },
   "file_extension": ".py",
   "mimetype": "text/x-python",
   "name": "python",
   "nbconvert_exporter": "python",
   "pygments_lexer": "ipython3",
   "version": "3.8.5"
  },
  "orig_nbformat": 2,
  "kernelspec": {
   "name": "python385jvsc74a57bd0f3d1f5d30c21196c70f8c8258cabef989d2c9491e4a1af195aa9091f64f6d2e6",
   "display_name": "Python 3.8.5 64-bit ('base': conda)"
  }
 },
 "nbformat": 4,
 "nbformat_minor": 2,
 "cells": [
  {
   "cell_type": "code",
   "execution_count": 1,
   "metadata": {},
   "outputs": [],
   "source": [
    "from skimage import io\n",
    "from skimage.transform import resize\n",
    "import numpy as np\n",
    "\n",
    "#TODO: comentar classe\n",
    "class ImageUtils(object): \n",
    "    @staticmethod  \n",
    "    def preprocessImage(imgPath:str, size:tuple) -> np.ndarray:\n",
    "        \"\"\"Read the image and resize it.\"\"\"\n",
    "        img = io.imread(imgPath)\n",
    "        img = resize(img, size)\n",
    "        return img"
   ]
  },
  {
   "cell_type": "code",
   "execution_count": 8,
   "metadata": {},
   "outputs": [],
   "source": [
    "#TODO:comentar classe\n",
    "from sklearn.cluster import KMeans\n",
    "\n",
    "class ImageCompressionKmeans(object):\n",
    "\n",
    "    @staticmethod\n",
    "    def encoder(imgPath:str, size:tuple = (256, 256)):\n",
    "        \"\"\"Encoder a image using kmeans algorith.\"\"\"\n",
    "        img = ImageUtils.preprocessImage(imgPath=imgPath, size=size)\n",
    "        #reshape the image to one dimenssion matrix to each canal\n",
    "        img = img.reshape(img.shape[0] * img.shape[1], 3)\n",
    "        #getting kmeans instance\n",
    "        kmeans = KMeans(n_clusters=128, n_init=10, max_iter=200)\n",
    "        #fitting with the image\n",
    "        kmeans.fit(img)\n",
    "\n",
    "        #getting the custers and labels\n",
    "        clusters = np.asarray(kmeans.cluster_centers_, dtype=np.uint8)\n",
    "        labels = np.asarray(kmeans.labels_, dtype=np.uint8)\n",
    "        labels = labels.reshape(rows, cols)\n",
    "\n",
    "        return (clusters, labels)\n",
    "\n",
    "    @staticmethod\n",
    "    def decoder(clusters:np.ndarray, labels:np.ndarray):\n",
    "        \"\"\"Reconstruct the image previusly encoder with kmeans algorith. For this, clusters and              labels is needed to reconstruct. \"\"\"\n",
    "        \n",
    "        #image shape with zeros matrix\n",
    "        image = np.zeros((clusters.shape[0], labels.shape[1], 3), dtype=np.uint8)\n",
    "        \n",
    "        #loop to construct the image\n",
    "        for i in range(labels.shape[0]): \n",
    "            for j in range(labels.shape[1]):\n",
    "                image[i, j, :] = clusters[c_img[i, j], :]\n",
    "\n",
    "        return image"
   ]
  },
  {
   "cell_type": "code",
   "execution_count": 7,
   "metadata": {},
   "outputs": [
    {
     "output_type": "stream",
     "name": "stdout",
     "text": [
      "(256, 256, 3)\n(65536, 3)\n"
     ]
    },
    {
     "output_type": "error",
     "ename": "NameError",
     "evalue": "name 'rows' is not defined",
     "traceback": [
      "\u001b[0;31m---------------------------------------------------------------------------\u001b[0m",
      "\u001b[0;31mNameError\u001b[0m                                 Traceback (most recent call last)",
      "\u001b[0;32m<ipython-input-7-b2bc00445532>\u001b[0m in \u001b[0;36m<module>\u001b[0;34m\u001b[0m\n\u001b[1;32m      1\u001b[0m \u001b[0;31m#TODO: falta teste\u001b[0m\u001b[0;34m\u001b[0m\u001b[0;34m\u001b[0m\u001b[0;34m\u001b[0m\u001b[0m\n\u001b[0;32m----> 2\u001b[0;31m \u001b[0mImageCompressionKmeans\u001b[0m\u001b[0;34m.\u001b[0m\u001b[0mencoder\u001b[0m\u001b[0;34m(\u001b[0m\u001b[0;34m'./teste.jpg'\u001b[0m\u001b[0;34m)\u001b[0m\u001b[0;34m\u001b[0m\u001b[0;34m\u001b[0m\u001b[0m\n\u001b[0m",
      "\u001b[0;32m<ipython-input-6-c857f4295532>\u001b[0m in \u001b[0;36mencoder\u001b[0;34m(imgPath, size)\u001b[0m\n\u001b[1;32m     16\u001b[0m         \u001b[0mclusters\u001b[0m \u001b[0;34m=\u001b[0m \u001b[0mnp\u001b[0m\u001b[0;34m.\u001b[0m\u001b[0masarray\u001b[0m\u001b[0;34m(\u001b[0m\u001b[0mkmeans\u001b[0m\u001b[0;34m.\u001b[0m\u001b[0mcluster_centers_\u001b[0m\u001b[0;34m,\u001b[0m \u001b[0mdtype\u001b[0m\u001b[0;34m=\u001b[0m\u001b[0mnp\u001b[0m\u001b[0;34m.\u001b[0m\u001b[0muint8\u001b[0m\u001b[0;34m)\u001b[0m\u001b[0;34m\u001b[0m\u001b[0;34m\u001b[0m\u001b[0m\n\u001b[1;32m     17\u001b[0m         \u001b[0mlabels\u001b[0m \u001b[0;34m=\u001b[0m \u001b[0mnp\u001b[0m\u001b[0;34m.\u001b[0m\u001b[0masarray\u001b[0m\u001b[0;34m(\u001b[0m\u001b[0mkmeans\u001b[0m\u001b[0;34m.\u001b[0m\u001b[0mlabels_\u001b[0m\u001b[0;34m,\u001b[0m \u001b[0mdtype\u001b[0m\u001b[0;34m=\u001b[0m\u001b[0mnp\u001b[0m\u001b[0;34m.\u001b[0m\u001b[0muint8\u001b[0m\u001b[0;34m)\u001b[0m\u001b[0;34m\u001b[0m\u001b[0;34m\u001b[0m\u001b[0m\n\u001b[0;32m---> 18\u001b[0;31m         \u001b[0mlabels\u001b[0m \u001b[0;34m=\u001b[0m \u001b[0mlabels\u001b[0m\u001b[0;34m.\u001b[0m\u001b[0mreshape\u001b[0m\u001b[0;34m(\u001b[0m\u001b[0mrows\u001b[0m\u001b[0;34m,\u001b[0m \u001b[0mcols\u001b[0m\u001b[0;34m)\u001b[0m\u001b[0;34m\u001b[0m\u001b[0;34m\u001b[0m\u001b[0m\n\u001b[0m\u001b[1;32m     19\u001b[0m \u001b[0;34m\u001b[0m\u001b[0m\n\u001b[1;32m     20\u001b[0m         \u001b[0;32mreturn\u001b[0m \u001b[0;34m(\u001b[0m\u001b[0mclusters\u001b[0m\u001b[0;34m,\u001b[0m \u001b[0mlabels\u001b[0m\u001b[0;34m)\u001b[0m\u001b[0;34m\u001b[0m\u001b[0;34m\u001b[0m\u001b[0m\n",
      "\u001b[0;31mNameError\u001b[0m: name 'rows' is not defined"
     ]
    }
   ],
   "source": [
    "#TODO: falta teste"
   ]
  }
 ]
}